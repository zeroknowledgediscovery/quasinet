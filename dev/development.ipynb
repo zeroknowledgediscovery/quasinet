{
 "cells": [
  {
   "cell_type": "code",
   "execution_count": 1,
   "metadata": {
    "ExecuteTime": {
     "end_time": "2020-09-01T19:55:20.048555Z",
     "start_time": "2020-09-01T19:55:18.980716Z"
    }
   },
   "outputs": [],
   "source": [
    "import sys\n",
    "from importlib import reload\n",
    "\n",
    "import pandas as pd\n",
    "import numpy as np\n",
    "\n",
    "sys.path.insert(1, '/home/jinli11/quasinet/')\n",
    "from quasinet import qnet, citrees, feature_selectors\n",
    "# reload(qnet)\n",
    "# reload(citrees)\n",
    "# reload(feature_selectors)"
   ]
  },
  {
   "cell_type": "code",
   "execution_count": 2,
   "metadata": {
    "ExecuteTime": {
     "end_time": "2020-09-01T19:55:20.053411Z",
     "start_time": "2020-09-01T19:55:20.050607Z"
    }
   },
   "outputs": [],
   "source": [
    "DATA_DIR = '../examples/example_data/'"
   ]
  },
  {
   "cell_type": "code",
   "execution_count": 3,
   "metadata": {
    "ExecuteTime": {
     "end_time": "2020-09-01T19:55:20.186075Z",
     "start_time": "2020-09-01T19:55:20.055334Z"
    }
   },
   "outputs": [],
   "source": [
    "data = pd.read_csv(DATA_DIR + 'cchfl_test.csv')"
   ]
  },
  {
   "cell_type": "code",
   "execution_count": 14,
   "metadata": {
    "ExecuteTime": {
     "end_time": "2020-09-01T20:19:29.561246Z",
     "start_time": "2020-09-01T20:19:29.555849Z"
    }
   },
   "outputs": [],
   "source": [
    "X = data.values.astype(str)[:, :5]"
   ]
  },
  {
   "cell_type": "code",
   "execution_count": 15,
   "metadata": {
    "ExecuteTime": {
     "end_time": "2020-09-01T20:19:29.710858Z",
     "start_time": "2020-09-01T20:19:29.707106Z"
    }
   },
   "outputs": [],
   "source": [
    "X[3, 1] = ''\n",
    "X[2, 0] = ''"
   ]
  },
  {
   "cell_type": "code",
   "execution_count": 16,
   "metadata": {
    "ExecuteTime": {
     "end_time": "2020-09-01T20:19:29.888922Z",
     "start_time": "2020-09-01T20:19:29.884136Z"
    }
   },
   "outputs": [],
   "source": [
    "# np.isnan(X)\n",
    "# X[:4]\n",
    "# X.shape"
   ]
  },
  {
   "cell_type": "code",
   "execution_count": 17,
   "metadata": {
    "ExecuteTime": {
     "end_time": "2020-09-01T20:19:30.075708Z",
     "start_time": "2020-09-01T20:19:30.072442Z"
    }
   },
   "outputs": [],
   "source": [
    "myqnet = qnet.Qnet(n_jobs=1)"
   ]
  },
  {
   "cell_type": "code",
   "execution_count": 18,
   "metadata": {
    "ExecuteTime": {
     "end_time": "2020-09-01T20:19:30.474269Z",
     "start_time": "2020-09-01T20:19:30.295928Z"
    }
   },
   "outputs": [
    {
     "data": {
      "text/plain": [
       "qnet.Qnet"
      ]
     },
     "execution_count": 18,
     "metadata": {},
     "output_type": "execute_result"
    }
   ],
   "source": [
    "myqnet.fit(X)"
   ]
  },
  {
   "cell_type": "code",
   "execution_count": 21,
   "metadata": {
    "ExecuteTime": {
     "end_time": "2020-09-01T20:19:39.430808Z",
     "start_time": "2020-09-01T20:19:39.426166Z"
    }
   },
   "outputs": [],
   "source": [
    "seq1 = X[1]\n",
    "seq2 = X[3]\n",
    "qdist = qnet.qdistance(seq1, seq2, myqnet, myqnet) "
   ]
  },
  {
   "cell_type": "code",
   "execution_count": 10,
   "metadata": {
    "ExecuteTime": {
     "end_time": "2020-09-01T19:55:20.697221Z",
     "start_time": "2020-09-01T19:55:20.658306Z"
    }
   },
   "outputs": [],
   "source": [
    "# qdist"
   ]
  },
  {
   "cell_type": "code",
   "execution_count": 11,
   "metadata": {
    "ExecuteTime": {
     "end_time": "2020-09-01T19:55:20.747367Z",
     "start_time": "2020-09-01T19:55:20.699512Z"
    }
   },
   "outputs": [],
   "source": [
    "# x = np.array([3, 2, -1]).astype(np.int32)"
   ]
  },
  {
   "cell_type": "code",
   "execution_count": 12,
   "metadata": {
    "ExecuteTime": {
     "end_time": "2020-09-01T19:55:20.797239Z",
     "start_time": "2020-09-01T19:55:20.749092Z"
    }
   },
   "outputs": [],
   "source": [
    "# x == -1"
   ]
  },
  {
   "cell_type": "code",
   "execution_count": null,
   "metadata": {},
   "outputs": [],
   "source": []
  }
 ],
 "metadata": {
  "kernelspec": {
   "display_name": "quasinet_dev",
   "language": "python",
   "name": "quasinet_dev"
  },
  "language_info": {
   "codemirror_mode": {
    "name": "ipython",
    "version": 3
   },
   "file_extension": ".py",
   "mimetype": "text/x-python",
   "name": "python",
   "nbconvert_exporter": "python",
   "pygments_lexer": "ipython3",
   "version": "3.7.9"
  },
  "toc": {
   "base_numbering": 1,
   "nav_menu": {},
   "number_sections": true,
   "sideBar": true,
   "skip_h1_title": false,
   "title_cell": "Table of Contents",
   "title_sidebar": "Contents",
   "toc_cell": false,
   "toc_position": {},
   "toc_section_display": true,
   "toc_window_display": false
  }
 },
 "nbformat": 4,
 "nbformat_minor": 2
}
