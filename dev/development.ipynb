{
 "cells": [
  {
   "cell_type": "code",
   "execution_count": 1,
   "metadata": {
    "ExecuteTime": {
     "end_time": "2020-09-11T19:01:33.895784Z",
     "start_time": "2020-09-11T19:01:32.577079Z"
    }
   },
   "outputs": [
    {
     "data": {
      "text/plain": [
       "<module 'quasinet._export' from '/home/jinli11/quasinet/quasinet/_export.py'>"
      ]
     },
     "execution_count": 1,
     "metadata": {},
     "output_type": "execute_result"
    }
   ],
   "source": [
    "import sys\n",
    "from importlib import reload\n",
    "\n",
    "import pandas as pd\n",
    "import numpy as np\n",
    "\n",
    "sys.path.insert(1, '/home/jinli11/quasinet/')\n",
    "from quasinet import qnet, citrees, feature_selectors\n",
    "# reload(qnet)\n",
    "# reload(citrees)\n",
    "# reload(feature_selectors)\n",
    "\n",
    "from quasinet import _export\n",
    "reload(_export)"
   ]
  },
  {
   "cell_type": "code",
   "execution_count": 2,
   "metadata": {
    "ExecuteTime": {
     "end_time": "2020-09-11T19:01:33.900680Z",
     "start_time": "2020-09-11T19:01:33.897832Z"
    }
   },
   "outputs": [],
   "source": [
    "DATA_DIR = '../examples/example_data/'"
   ]
  },
  {
   "cell_type": "code",
   "execution_count": 3,
   "metadata": {
    "ExecuteTime": {
     "end_time": "2020-09-11T19:01:34.021526Z",
     "start_time": "2020-09-11T19:01:33.902922Z"
    }
   },
   "outputs": [],
   "source": [
    "data = pd.read_csv(DATA_DIR + 'cchfl_test.csv')"
   ]
  },
  {
   "cell_type": "code",
   "execution_count": 4,
   "metadata": {
    "ExecuteTime": {
     "end_time": "2020-09-11T19:01:34.030093Z",
     "start_time": "2020-09-11T19:01:34.023907Z"
    }
   },
   "outputs": [],
   "source": [
    "X = data.values.astype(str)[:, :5]"
   ]
  },
  {
   "cell_type": "code",
   "execution_count": 5,
   "metadata": {
    "ExecuteTime": {
     "end_time": "2020-09-11T19:01:34.072446Z",
     "start_time": "2020-09-11T19:01:34.032275Z"
    }
   },
   "outputs": [],
   "source": [
    "X[3, 1] = ''\n",
    "X[2, 0] = ''"
   ]
  },
  {
   "cell_type": "code",
   "execution_count": 6,
   "metadata": {
    "ExecuteTime": {
     "end_time": "2020-09-11T19:01:34.113587Z",
     "start_time": "2020-09-11T19:01:34.074994Z"
    }
   },
   "outputs": [],
   "source": [
    "# np.isnan(X)\n",
    "# X[:4]\n",
    "# X.shape"
   ]
  },
  {
   "cell_type": "code",
   "execution_count": 7,
   "metadata": {
    "ExecuteTime": {
     "end_time": "2020-09-11T19:01:34.155708Z",
     "start_time": "2020-09-11T19:01:34.116052Z"
    }
   },
   "outputs": [],
   "source": [
    "names = np.arange(1, 6).astype(str)\n",
    "names = [n + 'aaaa' for n in names]\n",
    "\n",
    "myqnet = qnet.Qnet(\n",
    "    feature_names=names, \n",
    "    n_jobs=1, min_samples_split=2,\n",
    "    random_state=42)"
   ]
  },
  {
   "cell_type": "code",
   "execution_count": 8,
   "metadata": {
    "ExecuteTime": {
     "end_time": "2020-09-11T19:01:34.570520Z",
     "start_time": "2020-09-11T19:01:34.157866Z"
    }
   },
   "outputs": [
    {
     "data": {
      "text/plain": [
       "qnet.Qnet"
      ]
     },
     "execution_count": 8,
     "metadata": {},
     "output_type": "execute_result"
    }
   ],
   "source": [
    "myqnet.fit(X)"
   ]
  },
  {
   "cell_type": "code",
   "execution_count": 9,
   "metadata": {
    "ExecuteTime": {
     "end_time": "2020-09-11T19:01:34.578716Z",
     "start_time": "2020-09-11T19:01:34.575225Z"
    }
   },
   "outputs": [],
   "source": [
    "# myqnet.col_to_non_leaf_nodes"
   ]
  },
  {
   "cell_type": "code",
   "execution_count": 10,
   "metadata": {
    "ExecuteTime": {
     "end_time": "2020-09-11T19:01:34.632116Z",
     "start_time": "2020-09-11T19:01:34.581505Z"
    }
   },
   "outputs": [],
   "source": [
    "qnet.export_qnet_trees(myqnet, index=0, outfile='tmp.dot')"
   ]
  },
  {
   "cell_type": "code",
   "execution_count": 11,
   "metadata": {
    "ExecuteTime": {
     "end_time": "2020-09-11T19:01:35.381207Z",
     "start_time": "2020-09-11T19:01:34.634775Z"
    }
   },
   "outputs": [],
   "source": [
    "seq1 = X[1]\n",
    "seq2 = X[3]\n",
    "qdist = qnet.qdistance(seq1, seq2, myqnet, myqnet) "
   ]
  },
  {
   "cell_type": "code",
   "execution_count": 12,
   "metadata": {
    "ExecuteTime": {
     "end_time": "2020-09-11T19:01:35.388120Z",
     "start_time": "2020-09-11T19:01:35.383257Z"
    }
   },
   "outputs": [
    {
     "data": {
      "text/plain": [
       "{0: array([0, 3]),\n",
       " 1: array([0, 1, 2]),\n",
       " 2: array([0, 2, 3]),\n",
       " 3: array([0, 1, 2, 3]),\n",
       " 4: array([0, 2, 3])}"
      ]
     },
     "execution_count": 12,
     "metadata": {},
     "output_type": "execute_result"
    }
   ],
   "source": [
    "myqnet.col_to_non_leaf_nodes"
   ]
  },
  {
   "cell_type": "code",
   "execution_count": 13,
   "metadata": {
    "ExecuteTime": {
     "end_time": "2020-09-11T19:01:35.430191Z",
     "start_time": "2020-09-11T19:01:35.389909Z"
    }
   },
   "outputs": [],
   "source": [
    "# _export.GraphvizExporter(\n",
    "#     tree=myqnet.estimators_[0],\n",
    "#     response_name='XOXO',\n",
    "#     feature_names=names,\n",
    "#     outfile='tmp.dot')"
   ]
  },
  {
   "cell_type": "code",
   "execution_count": 14,
   "metadata": {
    "ExecuteTime": {
     "end_time": "2020-09-11T19:01:35.472140Z",
     "start_time": "2020-09-11T19:01:35.433118Z"
    }
   },
   "outputs": [],
   "source": [
    "# myqnet.estimators_[0].print_tree()"
   ]
  },
  {
   "cell_type": "code",
   "execution_count": 15,
   "metadata": {
    "ExecuteTime": {
     "end_time": "2020-09-11T19:01:35.513752Z",
     "start_time": "2020-09-11T19:01:35.475057Z"
    }
   },
   "outputs": [],
   "source": [
    "# x = np.array([3, 2, -1]).astype(np.int32)"
   ]
  },
  {
   "cell_type": "code",
   "execution_count": 16,
   "metadata": {
    "ExecuteTime": {
     "end_time": "2020-09-11T19:01:35.557942Z",
     "start_time": "2020-09-11T19:01:35.516850Z"
    }
   },
   "outputs": [
    {
     "data": {
      "text/plain": [
       "{'A': 39, 'T': 22, 'C': 2, 'G': 9}"
      ]
     },
     "execution_count": 16,
     "metadata": {},
     "output_type": "execute_result"
    }
   ],
   "source": [
    "# x == -1\n",
    "dict(myqnet.estimators_[3].root.label_frequency)#.label_frequency#.right.label_frequency#.value"
   ]
  },
  {
   "cell_type": "code",
   "execution_count": null,
   "metadata": {},
   "outputs": [],
   "source": []
  },
  {
   "cell_type": "code",
   "execution_count": null,
   "metadata": {},
   "outputs": [],
   "source": []
  }
 ],
 "metadata": {
  "kernelspec": {
   "display_name": "quasinet_dev",
   "language": "python",
   "name": "quasinet_dev"
  },
  "language_info": {
   "codemirror_mode": {
    "name": "ipython",
    "version": 3
   },
   "file_extension": ".py",
   "mimetype": "text/x-python",
   "name": "python",
   "nbconvert_exporter": "python",
   "pygments_lexer": "ipython3",
   "version": "3.7.9"
  },
  "toc": {
   "base_numbering": 1,
   "nav_menu": {},
   "number_sections": true,
   "sideBar": true,
   "skip_h1_title": false,
   "title_cell": "Table of Contents",
   "title_sidebar": "Contents",
   "toc_cell": false,
   "toc_position": {},
   "toc_section_display": true,
   "toc_window_display": false
  }
 },
 "nbformat": 4,
 "nbformat_minor": 2
}
