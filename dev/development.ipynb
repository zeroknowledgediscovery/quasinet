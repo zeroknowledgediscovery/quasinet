{
 "cells": [
  {
   "cell_type": "code",
   "execution_count": 1,
   "metadata": {
    "ExecuteTime": {
     "end_time": "2020-09-11T14:44:21.145804Z",
     "start_time": "2020-09-11T14:44:20.096456Z"
    }
   },
   "outputs": [
    {
     "data": {
      "text/plain": [
       "<module 'quasinet._export' from '/home/jinli11/quasinet/quasinet/_export.py'>"
      ]
     },
     "execution_count": 1,
     "metadata": {},
     "output_type": "execute_result"
    }
   ],
   "source": [
    "import sys\n",
    "from importlib import reload\n",
    "\n",
    "import pandas as pd\n",
    "import numpy as np\n",
    "\n",
    "sys.path.insert(1, '/home/jinli11/quasinet/')\n",
    "from quasinet import qnet, citrees, feature_selectors\n",
    "# reload(qnet)\n",
    "# reload(citrees)\n",
    "# reload(feature_selectors)\n",
    "\n",
    "from quasinet import _export\n",
    "reload(_export)"
   ]
  },
  {
   "cell_type": "code",
   "execution_count": 2,
   "metadata": {
    "ExecuteTime": {
     "end_time": "2020-09-11T14:44:21.150806Z",
     "start_time": "2020-09-11T14:44:21.148193Z"
    }
   },
   "outputs": [],
   "source": [
    "DATA_DIR = '../examples/example_data/'"
   ]
  },
  {
   "cell_type": "code",
   "execution_count": 3,
   "metadata": {
    "ExecuteTime": {
     "end_time": "2020-09-11T14:44:21.246903Z",
     "start_time": "2020-09-11T14:44:21.152895Z"
    }
   },
   "outputs": [],
   "source": [
    "data = pd.read_csv(DATA_DIR + 'cchfl_test.csv')"
   ]
  },
  {
   "cell_type": "code",
   "execution_count": 4,
   "metadata": {
    "ExecuteTime": {
     "end_time": "2020-09-11T14:44:21.296314Z",
     "start_time": "2020-09-11T14:44:21.249110Z"
    }
   },
   "outputs": [],
   "source": [
    "X = data.values.astype(str)[:, :5]"
   ]
  },
  {
   "cell_type": "code",
   "execution_count": 5,
   "metadata": {
    "ExecuteTime": {
     "end_time": "2020-09-11T14:44:21.360516Z",
     "start_time": "2020-09-11T14:44:21.298207Z"
    }
   },
   "outputs": [],
   "source": [
    "X[3, 1] = ''\n",
    "X[2, 0] = ''"
   ]
  },
  {
   "cell_type": "code",
   "execution_count": 6,
   "metadata": {
    "ExecuteTime": {
     "end_time": "2020-09-11T14:44:21.402274Z",
     "start_time": "2020-09-11T14:44:21.362533Z"
    }
   },
   "outputs": [],
   "source": [
    "# np.isnan(X)\n",
    "# X[:4]\n",
    "# X.shape"
   ]
  },
  {
   "cell_type": "code",
   "execution_count": 7,
   "metadata": {
    "ExecuteTime": {
     "end_time": "2020-09-11T14:44:21.444520Z",
     "start_time": "2020-09-11T14:44:21.404129Z"
    }
   },
   "outputs": [],
   "source": [
    "names = np.arange(1, 6).astype(str)\n",
    "names = [n + 'aaaa' for n in names]\n",
    "\n",
    "myqnet = qnet.Qnet(feature_names=names, n_jobs=1, min_samples_split=2)"
   ]
  },
  {
   "cell_type": "code",
   "execution_count": 8,
   "metadata": {
    "ExecuteTime": {
     "end_time": "2020-09-11T14:44:21.780448Z",
     "start_time": "2020-09-11T14:44:21.447210Z"
    }
   },
   "outputs": [
    {
     "data": {
      "text/plain": [
       "qnet.Qnet"
      ]
     },
     "execution_count": 8,
     "metadata": {},
     "output_type": "execute_result"
    }
   ],
   "source": [
    "myqnet.fit(X)"
   ]
  },
  {
   "cell_type": "code",
   "execution_count": 9,
   "metadata": {
    "ExecuteTime": {
     "end_time": "2020-09-11T14:44:21.785405Z",
     "start_time": "2020-09-11T14:44:21.782237Z"
    }
   },
   "outputs": [],
   "source": [
    "qnet.export_qnet_trees(myqnet, index=0, outfile='tmp.dot')"
   ]
  },
  {
   "cell_type": "code",
   "execution_count": 10,
   "metadata": {
    "ExecuteTime": {
     "end_time": "2020-09-11T14:44:21.980628Z",
     "start_time": "2020-09-11T14:44:21.788430Z"
    }
   },
   "outputs": [],
   "source": [
    "# seq1 = X[1]\n",
    "# seq2 = X[3]\n",
    "# qdist = qnet.qdistance(seq1, seq2, myqnet, myqnet) "
   ]
  },
  {
   "cell_type": "code",
   "execution_count": 11,
   "metadata": {
    "ExecuteTime": {
     "end_time": "2020-09-11T14:44:22.294004Z",
     "start_time": "2020-09-11T14:44:21.982357Z"
    }
   },
   "outputs": [],
   "source": [
    "# _export.GraphvizExporter(\n",
    "#     tree=myqnet.estimators_[0],\n",
    "#     response_name='XOXO',\n",
    "#     feature_names=names,\n",
    "#     outfile='tmp.dot')"
   ]
  },
  {
   "cell_type": "code",
   "execution_count": 12,
   "metadata": {
    "ExecuteTime": {
     "end_time": "2020-09-11T14:44:22.335548Z",
     "start_time": "2020-09-11T14:44:22.295737Z"
    }
   },
   "outputs": [],
   "source": [
    "# myqnet.estimators_[0].print_tree()"
   ]
  },
  {
   "cell_type": "code",
   "execution_count": 13,
   "metadata": {
    "ExecuteTime": {
     "end_time": "2020-09-11T14:44:22.381442Z",
     "start_time": "2020-09-11T14:44:22.337149Z"
    }
   },
   "outputs": [],
   "source": [
    "# x = np.array([3, 2, -1]).astype(np.int32)"
   ]
  },
  {
   "cell_type": "code",
   "execution_count": 14,
   "metadata": {
    "ExecuteTime": {
     "end_time": "2020-09-11T14:44:22.427022Z",
     "start_time": "2020-09-11T14:44:22.383165Z"
    }
   },
   "outputs": [],
   "source": [
    "# x == -1"
   ]
  },
  {
   "cell_type": "code",
   "execution_count": null,
   "metadata": {},
   "outputs": [],
   "source": []
  }
 ],
 "metadata": {
  "kernelspec": {
   "display_name": "quasinet_dev",
   "language": "python",
   "name": "quasinet_dev"
  },
  "language_info": {
   "codemirror_mode": {
    "name": "ipython",
    "version": 3
   },
   "file_extension": ".py",
   "mimetype": "text/x-python",
   "name": "python",
   "nbconvert_exporter": "python",
   "pygments_lexer": "ipython3",
   "version": "3.7.9"
  },
  "toc": {
   "base_numbering": 1,
   "nav_menu": {},
   "number_sections": true,
   "sideBar": true,
   "skip_h1_title": false,
   "title_cell": "Table of Contents",
   "title_sidebar": "Contents",
   "toc_cell": false,
   "toc_position": {},
   "toc_section_display": true,
   "toc_window_display": false
  }
 },
 "nbformat": 4,
 "nbformat_minor": 2
}
