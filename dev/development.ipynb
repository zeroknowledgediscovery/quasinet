{
 "cells": [
  {
   "cell_type": "code",
   "execution_count": 1,
   "metadata": {
    "ExecuteTime": {
     "end_time": "2020-09-12T13:12:27.993292Z",
     "start_time": "2020-09-12T13:12:26.998116Z"
    }
   },
   "outputs": [
    {
     "data": {
      "text/plain": [
       "<module 'quasinet._export' from '/home/jinli11/quasinet/quasinet/_export.py'>"
      ]
     },
     "execution_count": 1,
     "metadata": {},
     "output_type": "execute_result"
    }
   ],
   "source": [
    "import sys\n",
    "from importlib import reload\n",
    "\n",
    "import pandas as pd\n",
    "import numpy as np\n",
    "\n",
    "sys.path.insert(1, '/home/jinli11/quasinet/')\n",
    "from quasinet import qnet, citrees, feature_selectors\n",
    "# reload(qnet)\n",
    "# reload(citrees)\n",
    "# reload(feature_selectors)\n",
    "\n",
    "from quasinet import _export\n",
    "reload(_export)"
   ]
  },
  {
   "cell_type": "code",
   "execution_count": 2,
   "metadata": {
    "ExecuteTime": {
     "end_time": "2020-09-12T13:12:27.997426Z",
     "start_time": "2020-09-12T13:12:27.995039Z"
    }
   },
   "outputs": [],
   "source": [
    "DATA_DIR = '../examples/example_data/'"
   ]
  },
  {
   "cell_type": "code",
   "execution_count": 3,
   "metadata": {
    "ExecuteTime": {
     "end_time": "2020-09-12T13:12:28.087121Z",
     "start_time": "2020-09-12T13:12:27.999211Z"
    }
   },
   "outputs": [],
   "source": [
    "data = pd.read_csv(DATA_DIR + 'cchfl_test.csv')"
   ]
  },
  {
   "cell_type": "code",
   "execution_count": 4,
   "metadata": {
    "ExecuteTime": {
     "end_time": "2020-09-12T13:12:28.095797Z",
     "start_time": "2020-09-12T13:12:28.088880Z"
    }
   },
   "outputs": [],
   "source": [
    "X = data.values.astype(str)[:, :5]"
   ]
  },
  {
   "cell_type": "code",
   "execution_count": 5,
   "metadata": {
    "ExecuteTime": {
     "end_time": "2020-09-12T13:12:28.141609Z",
     "start_time": "2020-09-12T13:12:28.097291Z"
    }
   },
   "outputs": [],
   "source": [
    "X[3, 1] = ''\n",
    "X[2, 0] = ''"
   ]
  },
  {
   "cell_type": "code",
   "execution_count": 6,
   "metadata": {
    "ExecuteTime": {
     "end_time": "2020-09-12T13:12:28.183008Z",
     "start_time": "2020-09-12T13:12:28.143235Z"
    }
   },
   "outputs": [],
   "source": [
    "# np.isnan(X)\n",
    "# X[:4]\n",
    "# X.shape"
   ]
  },
  {
   "cell_type": "code",
   "execution_count": 7,
   "metadata": {
    "ExecuteTime": {
     "end_time": "2020-09-12T13:12:28.225206Z",
     "start_time": "2020-09-12T13:12:28.184468Z"
    }
   },
   "outputs": [],
   "source": [
    "names = np.arange(1, 6).astype(str)\n",
    "names = [n + 'aaaa' for n in names]\n",
    "\n",
    "myqnet = qnet.Qnet(\n",
    "    feature_names=names, \n",
    "    n_jobs=1, min_samples_split=2,\n",
    "    random_state=42)"
   ]
  },
  {
   "cell_type": "code",
   "execution_count": 8,
   "metadata": {
    "ExecuteTime": {
     "end_time": "2020-09-12T13:12:28.529796Z",
     "start_time": "2020-09-12T13:12:28.226899Z"
    }
   },
   "outputs": [
    {
     "data": {
      "text/plain": [
       "qnet.Qnet"
      ]
     },
     "execution_count": 8,
     "metadata": {},
     "output_type": "execute_result"
    }
   ],
   "source": [
    "myqnet.fit(X)"
   ]
  },
  {
   "cell_type": "code",
   "execution_count": 9,
   "metadata": {
    "ExecuteTime": {
     "end_time": "2020-09-12T13:12:28.534896Z",
     "start_time": "2020-09-12T13:12:28.532383Z"
    }
   },
   "outputs": [],
   "source": [
    "# myqnet.col_to_non_leaf_nodes"
   ]
  },
  {
   "cell_type": "code",
   "execution_count": 10,
   "metadata": {
    "ExecuteTime": {
     "end_time": "2020-09-12T13:12:28.576864Z",
     "start_time": "2020-09-12T13:12:28.538237Z"
    }
   },
   "outputs": [],
   "source": [
    "qnet.export_qnet_trees(myqnet, index=0, outfile='tmp.dot')"
   ]
  },
  {
   "cell_type": "code",
   "execution_count": 11,
   "metadata": {
    "ExecuteTime": {
     "end_time": "2020-09-12T13:12:29.293833Z",
     "start_time": "2020-09-12T13:12:28.579746Z"
    }
   },
   "outputs": [],
   "source": [
    "seq1 = X[1]\n",
    "seq2 = X[3]\n",
    "qdist = qnet.qdistance(seq1, seq2, myqnet, myqnet) "
   ]
  },
  {
   "cell_type": "code",
   "execution_count": 12,
   "metadata": {
    "ExecuteTime": {
     "end_time": "2020-09-12T13:12:29.299140Z",
     "start_time": "2020-09-12T13:12:29.296436Z"
    }
   },
   "outputs": [],
   "source": [
    "# myqnet.col_to_non_leaf_nodes"
   ]
  },
  {
   "cell_type": "code",
   "execution_count": 13,
   "metadata": {
    "ExecuteTime": {
     "end_time": "2020-09-12T13:12:29.342274Z",
     "start_time": "2020-09-12T13:12:29.301255Z"
    }
   },
   "outputs": [],
   "source": [
    "# _export.GraphvizExporter(\n",
    "#     tree=myqnet.estimators_[0],\n",
    "#     response_name='XOXO',\n",
    "#     feature_names=names,\n",
    "#     outfile='tmp.dot')"
   ]
  },
  {
   "cell_type": "code",
   "execution_count": 14,
   "metadata": {
    "ExecuteTime": {
     "end_time": "2020-09-12T13:12:29.383473Z",
     "start_time": "2020-09-12T13:12:29.345546Z"
    }
   },
   "outputs": [],
   "source": [
    "# myqnet.estimators_[0].print_tree()"
   ]
  },
  {
   "cell_type": "code",
   "execution_count": 15,
   "metadata": {
    "ExecuteTime": {
     "end_time": "2020-09-12T13:12:29.425113Z",
     "start_time": "2020-09-12T13:12:29.385490Z"
    }
   },
   "outputs": [],
   "source": [
    "# x = np.array([3, 2, -1]).astype(np.int32)"
   ]
  },
  {
   "cell_type": "code",
   "execution_count": 16,
   "metadata": {
    "ExecuteTime": {
     "end_time": "2020-09-12T13:12:29.468771Z",
     "start_time": "2020-09-12T13:12:29.427250Z"
    }
   },
   "outputs": [],
   "source": [
    "# x == -1\n",
    "# dict(myqnet.estimators_[3].root.label_frequency)#.label_frequency#.right.label_frequency#.value"
   ]
  },
  {
   "cell_type": "code",
   "execution_count": null,
   "metadata": {},
   "outputs": [],
   "source": []
  },
  {
   "cell_type": "code",
   "execution_count": null,
   "metadata": {},
   "outputs": [],
   "source": []
  }
 ],
 "metadata": {
  "kernelspec": {
   "display_name": "quasinet_dev",
   "language": "python",
   "name": "quasinet_dev"
  },
  "language_info": {
   "codemirror_mode": {
    "name": "ipython",
    "version": 3
   },
   "file_extension": ".py",
   "mimetype": "text/x-python",
   "name": "python",
   "nbconvert_exporter": "python",
   "pygments_lexer": "ipython3",
   "version": "3.7.9"
  },
  "toc": {
   "base_numbering": 1,
   "nav_menu": {},
   "number_sections": true,
   "sideBar": true,
   "skip_h1_title": false,
   "title_cell": "Table of Contents",
   "title_sidebar": "Contents",
   "toc_cell": false,
   "toc_position": {},
   "toc_section_display": true,
   "toc_window_display": false
  }
 },
 "nbformat": 4,
 "nbformat_minor": 2
}
