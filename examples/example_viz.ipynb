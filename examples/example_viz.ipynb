{
 "cells": [
  {
   "cell_type": "code",
   "execution_count": null,
   "metadata": {},
   "outputs": [],
   "source": [
    "from quasinet.qnet import load_qnet\n",
    "\n",
    "OUTDIR='trees/'\n",
    "modelpath='melanoma_model.gz'\n",
    "model=load_qnet(modelpath,gz=True)\n",
    "\n",
    "model.viz_trees(tree_path=OUTDIR,big_enough_threshold=1,format='png')"
   ]
  },
  {
   "cell_type": "code",
   "execution_count": null,
   "metadata": {},
   "outputs": [],
   "source": [
    "model.viz_trees(tree_path=OUTDIR,big_enough_threshold=-1,format='pdf')"
   ]
  },
  {
   "cell_type": "code",
   "execution_count": null,
   "metadata": {},
   "outputs": [],
   "source": [
    "model.viz_trees(tree_path=OUTDIR,big_enough_threshold=-1,format='pdf',draw=True, remove_dotfile=True)\n",
    "\n",
    "model.viz_trees(tree_path=OUTDIR,big_enough_threshold=-1,format='pdf',draw=True, remove_dotfile=True,addurl=True,base_url='https://34.66.189.202/var/www/html/data/')\n",
    "OUTDIR='trees/'\n",
    "model.viz_trees(tree_path=OUTDIR,big_enough_threshold=1,format='png',addurl=True,\n",
    "                base_url='https://34.66.189.202/data/',edge_color='gray',\n",
    "               text_color='gray',edge_label_color='gray')\n"
   ]
  },
  {
   "cell_type": "code",
   "execution_count": null,
   "metadata": {},
   "outputs": [],
   "source": [
    "from quasinet.utils import remove_newline_in_dotfile\n",
    "import glob\n",
    "\n",
    "for dotfile in glob.glob(OUTDIR+'/*dot')\n",
    "    remove_newline_in_dotfile(dotfile)"
   ]
  },
  {
   "cell_type": "code",
   "execution_count": null,
   "metadata": {},
   "outputs": [],
   "source": []
  },
  {
   "cell_type": "code",
   "execution_count": null,
   "metadata": {},
   "outputs": [],
   "source": []
  },
  {
   "cell_type": "code",
   "execution_count": null,
   "metadata": {},
   "outputs": [],
   "source": []
  }
 ],
 "metadata": {
  "kernelspec": {
   "display_name": "Python 3 (ipykernel)",
   "language": "python",
   "name": "python3"
  },
  "language_info": {
   "codemirror_mode": {
    "name": "ipython",
    "version": 3
   },
   "file_extension": ".py",
   "mimetype": "text/x-python",
   "name": "python",
   "nbconvert_exporter": "python",
   "pygments_lexer": "ipython3",
   "version": "3.10.8"
  }
 },
 "nbformat": 4,
 "nbformat_minor": 4
}
