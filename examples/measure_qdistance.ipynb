{
 "cells": [
  {
   "cell_type": "markdown",
   "metadata": {},
   "source": [
    "In this notebook, we will demonstrate how to use the pretrained qnets for distance and membership\n",
    "degree calculation."
   ]
  },
  {
   "cell_type": "markdown",
   "metadata": {},
   "source": [
    "# Imports"
   ]
  },
  {
   "cell_type": "code",
   "execution_count": 1,
   "metadata": {
    "ExecuteTime": {
     "end_time": "2020-07-11T18:08:41.176589Z",
     "start_time": "2020-07-11T18:08:40.153854Z"
    }
   },
   "outputs": [],
   "source": [
    "from quasinet import qseqtools as qt\n",
    "from quasinet import qnet"
   ]
  },
  {
   "cell_type": "markdown",
   "metadata": {},
   "source": [
    "# Setting Directories"
   ]
  },
  {
   "cell_type": "code",
   "execution_count": 2,
   "metadata": {
    "ExecuteTime": {
     "end_time": "2020-07-11T18:09:09.185716Z",
     "start_time": "2020-07-11T18:09:09.182749Z"
    }
   },
   "outputs": [],
   "source": [
    "DATA_DIR = 'example_data/'"
   ]
  },
  {
   "cell_type": "markdown",
   "metadata": {},
   "source": [
    "# Using the Qnet"
   ]
  },
  {
   "cell_type": "markdown",
   "metadata": {},
   "source": [
    "To list all the available trained qnets:"
   ]
  },
  {
   "cell_type": "code",
   "execution_count": 3,
   "metadata": {
    "ExecuteTime": {
     "end_time": "2020-07-11T18:09:25.751858Z",
     "start_time": "2020-07-11T18:09:25.746279Z"
    }
   },
   "outputs": [
    {
     "name": "stdout",
     "output_type": "stream",
     "text": [
      "Possible qnets: \n",
      "\n",
      "`coronavirus` options:\n",
      "\tbat\n",
      "\trat\n",
      "\tgame\n",
      "\tcovid19\n",
      "\n",
      "`influenza` options:\n",
      "\th1n1;na;2000\n",
      "\th1n1;na;2001\n",
      "\th1n1;na;2003\n",
      "\th1n1;na;2005\n",
      "\th1n1;na;2006\n",
      "\th1n1;na;2007\n",
      "\th1n1;na;2008\n",
      "\th1n1;na;2009\n",
      "\th1n1;na;2010\n",
      "\th1n1;na;2011\n",
      "\th1n1;na;2012\n",
      "\th1n1;na;2013\n",
      "\th1n1;na;2014\n",
      "\th1n1;na;2015\n",
      "\th1n1;na;2016\n",
      "\th1n1;na;2017\n",
      "\th1n1;na;2018\n",
      "\th1n1;na;2019\n",
      "\th3n2;na;2002\n",
      "\th3n2;na;2003\n",
      "\th3n2;na;2004\n",
      "\th3n2;na;2005\n",
      "\th3n2;na;2006\n",
      "\th3n2;na;2007\n",
      "\th3n2;na;2008\n",
      "\th3n2;na;2009\n",
      "\th3n2;na;2010\n",
      "\th3n2;na;2011\n",
      "\th3n2;na;2012\n",
      "\th3n2;na;2013\n",
      "\th3n2;na;2014\n",
      "\th3n2;na;2015\n",
      "\th3n2;na;2016\n",
      "\th3n2;na;2017\n",
      "\th3n2;na;2018\n",
      "\th3n2;na;2019\n",
      "\th1n1;ha;2000\n",
      "\th1n1;ha;2001\n",
      "\th1n1;ha;2003\n",
      "\th1n1;ha;2005\n",
      "\th1n1;ha;2006\n",
      "\th1n1;ha;2007\n",
      "\th1n1;ha;2008\n",
      "\th1n1;ha;2009\n",
      "\th1n1;ha;2010\n",
      "\th1n1;ha;2011\n",
      "\th1n1;ha;2012\n",
      "\th1n1;ha;2013\n",
      "\th1n1;ha;2014\n",
      "\th1n1;ha;2015\n",
      "\th1n1;ha;2016\n",
      "\th1n1;ha;2017\n",
      "\th1n1;ha;2018\n",
      "\th1n1;ha;2019\n",
      "\th3n2;ha;2004\n",
      "\th3n2;ha;2005\n",
      "\th3n2;ha;2007\n",
      "\th3n2;ha;2008\n",
      "\th3n2;ha;2009\n",
      "\th3n2;ha;2010\n",
      "\th3n2;ha;2011\n",
      "\th3n2;ha;2012\n",
      "\th3n2;ha;2013\n",
      "\th3n2;ha;2014\n",
      "\th3n2;ha;2015\n",
      "\th3n2;ha;2016\n",
      "\th3n2;ha;2017\n",
      "\th3n2;ha;2018\n",
      "\th3n2;ha;2019\n"
     ]
    }
   ],
   "source": [
    "qt.list_trained_qnets()"
   ]
  },
  {
   "cell_type": "markdown",
   "metadata": {},
   "source": [
    "## Influenza Example"
   ]
  },
  {
   "cell_type": "markdown",
   "metadata": {},
   "source": [
    "Load the sequences from fasta files."
   ]
  },
  {
   "cell_type": "code",
   "execution_count": 4,
   "metadata": {
    "ExecuteTime": {
     "end_time": "2020-07-11T18:10:16.926435Z",
     "start_time": "2020-07-11T18:10:16.907207Z"
    }
   },
   "outputs": [],
   "source": [
    "seq1 = qt.load_sequence(DATA_DIR + 'influenza1.fasta')\n",
    "seq2 = qt.load_sequence(DATA_DIR + 'influenza2.fasta')"
   ]
  },
  {
   "cell_type": "markdown",
   "metadata": {},
   "source": [
    "Load influenza h1n1 HA 2009 qnet."
   ]
  },
  {
   "cell_type": "code",
   "execution_count": 5,
   "metadata": {
    "ExecuteTime": {
     "end_time": "2020-07-11T18:10:22.947007Z",
     "start_time": "2020-07-11T18:10:22.290699Z"
    }
   },
   "outputs": [],
   "source": [
    "influenza_qnet = qt.load_trained_qnet('influenza', 'h1n1;ha;2009')"
   ]
  },
  {
   "cell_type": "markdown",
   "metadata": {},
   "source": [
    "Compute qdistance between sequence 1 and sequence 2."
   ]
  },
  {
   "cell_type": "code",
   "execution_count": 6,
   "metadata": {
    "ExecuteTime": {
     "end_time": "2020-07-11T18:10:56.583992Z",
     "start_time": "2020-07-11T18:10:52.961337Z"
    }
   },
   "outputs": [],
   "source": [
    "qdist = qnet.qdistance(seq1, seq2, influenza_qnet, influenza_qnet) "
   ]
  },
  {
   "cell_type": "markdown",
   "metadata": {},
   "source": [
    "Compute membership degree of sequence 1 with respect to the qnet."
   ]
  },
  {
   "cell_type": "code",
   "execution_count": 7,
   "metadata": {
    "ExecuteTime": {
     "end_time": "2020-07-11T18:11:16.662299Z",
     "start_time": "2020-07-11T18:11:15.223311Z"
    }
   },
   "outputs": [],
   "source": [
    "qnet_membership = qnet.membership_degree(seq1, influenza_qnet)"
   ]
  },
  {
   "cell_type": "markdown",
   "metadata": {},
   "source": [
    "## Coronavirus Example"
   ]
  },
  {
   "cell_type": "code",
   "execution_count": 8,
   "metadata": {
    "ExecuteTime": {
     "end_time": "2020-07-11T18:11:36.663333Z",
     "start_time": "2020-07-11T18:11:36.656117Z"
    }
   },
   "outputs": [],
   "source": [
    "seq1 = qt.load_sequence(DATA_DIR + 'covid19_1.fasta')\n",
    "seq2 = qt.load_sequence(DATA_DIR + 'covid19_2.fasta')"
   ]
  },
  {
   "cell_type": "code",
   "execution_count": 9,
   "metadata": {
    "ExecuteTime": {
     "end_time": "2020-07-11T18:11:44.043365Z",
     "start_time": "2020-07-11T18:11:40.468004Z"
    }
   },
   "outputs": [],
   "source": [
    "coronavirus_qnet = qt.load_trained_qnet('coronavirus', 'covid19')"
   ]
  },
  {
   "cell_type": "code",
   "execution_count": 10,
   "metadata": {
    "ExecuteTime": {
     "end_time": "2020-07-11T18:12:01.169882Z",
     "start_time": "2020-07-11T18:11:44.045326Z"
    }
   },
   "outputs": [],
   "source": [
    "qdist = qnet.qdistance(seq1, seq2, coronavirus_qnet, coronavirus_qnet) "
   ]
  },
  {
   "cell_type": "code",
   "execution_count": 11,
   "metadata": {
    "ExecuteTime": {
     "end_time": "2020-07-11T18:12:10.162509Z",
     "start_time": "2020-07-11T18:12:01.172648Z"
    }
   },
   "outputs": [],
   "source": [
    "qnet_membership = qnet.membership_degree(seq1, coronavirus_qnet)"
   ]
  },
  {
   "cell_type": "markdown",
   "metadata": {},
   "source": [
    "# Pulling Sequences From NCBI"
   ]
  },
  {
   "cell_type": "markdown",
   "metadata": {},
   "source": [
    "You can also pull sequences and download them as a fasta file as follows:"
   ]
  },
  {
   "cell_type": "code",
   "execution_count": 12,
   "metadata": {
    "ExecuteTime": {
     "end_time": "2020-07-11T18:46:24.872362Z",
     "start_time": "2020-07-11T18:46:20.196517Z"
    }
   },
   "outputs": [],
   "source": [
    "!python pull_sequence.py --organism \"coronavirus\" --accession \"LC528233\" --outfile \"LC528233.fasta\""
   ]
  },
  {
   "cell_type": "markdown",
   "metadata": {},
   "source": [
    "This command indicates that you are pulling in a `coronavirus` sequence with accession `LC528233` and saving it to the file `LC528233.fasta`.\n",
    "\n",
    "Note that `!` before a command means you are running this as if you were running the command on the command line interface."
   ]
  }
 ],
 "metadata": {
  "kernelspec": {
   "display_name": "test_quas",
   "language": "python",
   "name": "test_quas"
  },
  "language_info": {
   "codemirror_mode": {
    "name": "ipython",
    "version": 3
   },
   "file_extension": ".py",
   "mimetype": "text/x-python",
   "name": "python",
   "nbconvert_exporter": "python",
   "pygments_lexer": "ipython3",
   "version": "3.7.7"
  },
  "toc": {
   "base_numbering": 1,
   "nav_menu": {},
   "number_sections": true,
   "sideBar": true,
   "skip_h1_title": false,
   "title_cell": "Table of Contents",
   "title_sidebar": "Contents",
   "toc_cell": false,
   "toc_position": {},
   "toc_section_display": true,
   "toc_window_display": false
  }
 },
 "nbformat": 4,
 "nbformat_minor": 2
}
