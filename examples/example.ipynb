{
 "cells": [
  {
   "cell_type": "code",
   "execution_count": 6,
   "metadata": {},
   "outputs": [],
   "source": [
    "import numpy as np\n",
    "from quasinet.qnet import load_qnet\n",
    "from quasinet.qnet import save_qnet\n",
    "from quasinet.qsampling import qsample\n",
    "from quasinet.qnet import qdistance, qdistance_matrix\n",
    "from quasinet.qnet import Qnet\n"
   ]
  },
  {
   "cell_type": "markdown",
   "metadata": {},
   "source": [
    "## Create, load and save quasinet model"
   ]
  },
  {
   "cell_type": "code",
   "execution_count": 3,
   "metadata": {},
   "outputs": [],
   "source": [
    "#MODELNAME='global2.joblib.gz'\n",
    "#model=load_qnet(MODELNAME,gz=True)\n",
    "\n",
    "#MODELNAME='catptsd.joblib'\n",
    "#model=load_qnet(MODELNAME,gz=False)\n",
    "\n",
    "model=Qnet(feature_names=['X'+str(x) for x in range(15)],alpha=.1)\n",
    "X=np.random.randint(10, size=(100, 15)).astype('str')\n",
    "model.fit(X)\n",
    "\n",
    "save_qnet(model,'model.joblib.gz',gz=True)"
   ]
  },
  {
   "cell_type": "markdown",
   "metadata": {},
   "source": [
    "## Compute qdistance between samples"
   ]
  },
  {
   "cell_type": "code",
   "execution_count": 4,
   "metadata": {},
   "outputs": [
    {
     "data": {
      "text/plain": [
       "0.03303279692657593"
      ]
     },
     "execution_count": 4,
     "metadata": {},
     "output_type": "execute_result"
    }
   ],
   "source": [
    "qdistance(X[0],X[1],model,model)"
   ]
  },
  {
   "cell_type": "code",
   "execution_count": 7,
   "metadata": {},
   "outputs": [
    {
     "data": {
      "text/plain": [
       "array([[0.        , 0.0330328 , 0.03995392, 0.05202185, 0.03072514],\n",
       "       [0.0330328 , 0.        , 0.02860261, 0.03291197, 0.03568944],\n",
       "       [0.03995392, 0.02860261, 0.        , 0.03096436, 0.03521861],\n",
       "       [0.05202185, 0.03291197, 0.03096436, 0.        , 0.02522709],\n",
       "       [0.03072514, 0.03568944, 0.03521861, 0.02522709, 0.        ],\n",
       "       [0.05800043, 0.07859987, 0.06978143, 0.07361493, 0.05571045],\n",
       "       [0.04710786, 0.02475045, 0.0286777 , 0.03515892, 0.04094038],\n",
       "       [0.03588783, 0.04075767, 0.03343664, 0.03288908, 0.03864915],\n",
       "       [0.04187565, 0.04685019, 0.03823567, 0.05121765, 0.03591758],\n",
       "       [0.04835767, 0.02712291, 0.02779251, 0.03354772, 0.03868481]])"
      ]
     },
     "execution_count": 7,
     "metadata": {},
     "output_type": "execute_result"
    }
   ],
   "source": [
    "qdistance_matrix(X[:10],X[:5],model,model)"
   ]
  },
  {
   "cell_type": "markdown",
   "metadata": {},
   "source": [
    "## Draw qsample to generate samples which follow the inferred probabilistic constraints\n",
    "\n",
    "We call these the \"core samples\" if `steps` is large"
   ]
  },
  {
   "cell_type": "code",
   "execution_count": 8,
   "metadata": {},
   "outputs": [
    {
     "data": {
      "text/plain": [
       "array(['3', '0', '7', '4', '5', '6', '3', '5', '5', '9', '0', '5', '1',\n",
       "       '9', '6'], dtype='<U21')"
      ]
     },
     "execution_count": 8,
     "metadata": {},
     "output_type": "execute_result"
    }
   ],
   "source": [
    "qsample(X[0],model,steps=10)"
   ]
  },
  {
   "cell_type": "markdown",
   "metadata": {},
   "source": [
    "## Evaluate fetature importances using Shap anlaysis\n",
    "\n",
    "Using ,fast_estimate=False using kernel explainer, otherwise \n",
    "a catboost based tree explainer, which is significantluy faster,\n",
    "but probably less accurate"
   ]
  },
  {
   "cell_type": "code",
   "execution_count": 9,
   "metadata": {},
   "outputs": [],
   "source": [
    "from quasinet.feature_importance import getShap"
   ]
  },
  {
   "cell_type": "code",
   "execution_count": 10,
   "metadata": {},
   "outputs": [
    {
     "data": {
      "application/vnd.jupyter.widget-view+json": {
       "model_id": "d4a7386d2c504875a2da87b893e492b5",
       "version_major": 2,
       "version_minor": 0
      },
      "text/plain": [
       "  0%|          | 0/5 [00:00<?, ?it/s]"
      ]
     },
     "metadata": {},
     "output_type": "display_data"
    }
   ],
   "source": [
    "sf,index_=getShap(model,fast_estimate=False)"
   ]
  },
  {
   "cell_type": "code",
   "execution_count": 11,
   "metadata": {},
   "outputs": [
    {
     "data": {
      "text/html": [
       "<div>\n",
       "<style scoped>\n",
       "    .dataframe tbody tr th:only-of-type {\n",
       "        vertical-align: middle;\n",
       "    }\n",
       "\n",
       "    .dataframe tbody tr th {\n",
       "        vertical-align: top;\n",
       "    }\n",
       "\n",
       "    .dataframe thead th {\n",
       "        text-align: right;\n",
       "    }\n",
       "</style>\n",
       "<table border=\"1\" class=\"dataframe\">\n",
       "  <thead>\n",
       "    <tr style=\"text-align: right;\">\n",
       "      <th></th>\n",
       "      <th>shapval</th>\n",
       "    </tr>\n",
       "  </thead>\n",
       "  <tbody>\n",
       "    <tr>\n",
       "      <th>X14</th>\n",
       "      <td>-0.022672</td>\n",
       "    </tr>\n",
       "    <tr>\n",
       "      <th>X13</th>\n",
       "      <td>0.005082</td>\n",
       "    </tr>\n",
       "    <tr>\n",
       "      <th>X1</th>\n",
       "      <td>-0.004271</td>\n",
       "    </tr>\n",
       "    <tr>\n",
       "      <th>X2</th>\n",
       "      <td>0.003941</td>\n",
       "    </tr>\n",
       "    <tr>\n",
       "      <th>X10</th>\n",
       "      <td>0.003169</td>\n",
       "    </tr>\n",
       "    <tr>\n",
       "      <th>X3</th>\n",
       "      <td>0.002976</td>\n",
       "    </tr>\n",
       "    <tr>\n",
       "      <th>X9</th>\n",
       "      <td>-0.002956</td>\n",
       "    </tr>\n",
       "    <tr>\n",
       "      <th>X7</th>\n",
       "      <td>0.002587</td>\n",
       "    </tr>\n",
       "    <tr>\n",
       "      <th>X4</th>\n",
       "      <td>0.001870</td>\n",
       "    </tr>\n",
       "    <tr>\n",
       "      <th>X5</th>\n",
       "      <td>-0.000973</td>\n",
       "    </tr>\n",
       "    <tr>\n",
       "      <th>X12</th>\n",
       "      <td>0.000909</td>\n",
       "    </tr>\n",
       "    <tr>\n",
       "      <th>X6</th>\n",
       "      <td>0.000620</td>\n",
       "    </tr>\n",
       "    <tr>\n",
       "      <th>X0</th>\n",
       "      <td>-0.000325</td>\n",
       "    </tr>\n",
       "    <tr>\n",
       "      <th>X11</th>\n",
       "      <td>0.000234</td>\n",
       "    </tr>\n",
       "    <tr>\n",
       "      <th>X8</th>\n",
       "      <td>-0.000162</td>\n",
       "    </tr>\n",
       "  </tbody>\n",
       "</table>\n",
       "</div>"
      ],
      "text/plain": [
       "      shapval\n",
       "X14 -0.022672\n",
       "X13  0.005082\n",
       "X1  -0.004271\n",
       "X2   0.003941\n",
       "X10  0.003169\n",
       "X3   0.002976\n",
       "X9  -0.002956\n",
       "X7   0.002587\n",
       "X4   0.001870\n",
       "X5  -0.000973\n",
       "X12  0.000909\n",
       "X6   0.000620\n",
       "X0  -0.000325\n",
       "X11  0.000234\n",
       "X8  -0.000162"
      ]
     },
     "execution_count": 11,
     "metadata": {},
     "output_type": "execute_result"
    }
   ],
   "source": [
    "sf"
   ]
  },
  {
   "cell_type": "markdown",
   "metadata": {},
   "source": [
    "## Compute metric tensor and curvature"
   ]
  },
  {
   "cell_type": "code",
   "execution_count": 15,
   "metadata": {},
   "outputs": [],
   "source": [
    "from quasinet.curvature import compute_metric_tensor, compute_curvature\n",
    "import numpy as np\n",
    "from quasinet.utils import getNull"
   ]
  },
  {
   "cell_type": "code",
   "execution_count": 16,
   "metadata": {},
   "outputs": [],
   "source": [
    "p=np.array(model.predict_distributions(getNull(model,strtype='U5')))[index_[:10]]"
   ]
  },
  {
   "cell_type": "code",
   "execution_count": 17,
   "metadata": {},
   "outputs": [
    {
     "data": {
      "text/plain": [
       "array([[0.00000000e+00, 1.54359397e-04, 1.56401307e-04, 1.73931175e-04,\n",
       "        1.53612026e-04, 1.48305277e-04, 2.15271750e-04, 1.28228321e-04,\n",
       "        1.85878971e-04, 1.23501624e-04],\n",
       "       [1.54359397e-04, 0.00000000e+00, 1.34462539e-04, 1.49533452e-04,\n",
       "        1.32064517e-04, 1.27502157e-04, 1.85075090e-04, 1.10241441e-04,\n",
       "        1.59805304e-04, 1.06177769e-04],\n",
       "       [1.56401307e-04, 1.34462539e-04, 0.00000000e+00, 1.51511523e-04,\n",
       "        1.33811504e-04, 1.29188792e-04, 1.87523316e-04, 1.11699747e-04,\n",
       "        1.61919254e-04, 1.07582319e-04],\n",
       "       [1.73931175e-04, 1.49533452e-04, 1.51511523e-04, 0.00000000e+00,\n",
       "        1.48809447e-04, 1.43668610e-04, 2.08541420e-04, 1.24219347e-04,\n",
       "        1.80067587e-04, 1.19640427e-04],\n",
       "       [1.53612026e-04, 1.32064517e-04, 1.33811504e-04, 1.48809447e-04,\n",
       "        0.00000000e+00, 1.26884823e-04, 1.84179002e-04, 1.09707679e-04,\n",
       "        1.59031565e-04, 1.05663682e-04],\n",
       "       [1.48305277e-04, 1.27502157e-04, 1.29188792e-04, 1.43668610e-04,\n",
       "        1.26884823e-04, 0.00000000e+00, 1.77816272e-04, 1.05917669e-04,\n",
       "        1.53537590e-04, 1.02013377e-04],\n",
       "       [2.15271750e-04, 1.85075090e-04, 1.87523316e-04, 2.08541420e-04,\n",
       "        1.84179002e-04, 1.77816272e-04, 0.00000000e+00, 1.53744239e-04,\n",
       "        2.22866687e-04, 1.48076985e-04],\n",
       "       [1.28228321e-04, 1.10241441e-04, 1.11699747e-04, 1.24219347e-04,\n",
       "        1.09707679e-04, 1.05917669e-04, 1.53744239e-04, 0.00000000e+00,\n",
       "        1.32752305e-04, 8.82032276e-05],\n",
       "       [1.85878971e-04, 1.59805304e-04, 1.61919254e-04, 1.80067587e-04,\n",
       "        1.59031565e-04, 1.53537590e-04, 2.22866687e-04, 1.32752305e-04,\n",
       "        0.00000000e+00, 1.27858847e-04],\n",
       "       [1.23501624e-04, 1.06177769e-04, 1.07582319e-04, 1.19640427e-04,\n",
       "        1.05663682e-04, 1.02013377e-04, 1.48076985e-04, 8.82032276e-05,\n",
       "        1.27858847e-04, 0.00000000e+00]])"
      ]
     },
     "execution_count": 17,
     "metadata": {},
     "output_type": "execute_result"
    }
   ],
   "source": [
    "compute_metric_tensor(p,delta=0.001)"
   ]
  },
  {
   "cell_type": "code",
   "execution_count": 18,
   "metadata": {},
   "outputs": [
    {
     "name": "stderr",
     "output_type": "stream",
     "text": [
      "100%|██████████| 10/10 [00:53<00:00,  5.30s/it]\n",
      "100%|██████████| 10/10 [00:00<00:00, 578.75it/s]\n",
      "100%|██████████| 10/10 [00:00<00:00, 49113.63it/s]\n"
     ]
    },
    {
     "data": {
      "text/plain": [
       "412538.3136198949"
      ]
     },
     "execution_count": 18,
     "metadata": {},
     "output_type": "execute_result"
    }
   ],
   "source": [
    "compute_curvature(p,delta=0.001)"
   ]
  },
  {
   "cell_type": "code",
   "execution_count": null,
   "metadata": {},
   "outputs": [],
   "source": []
  }
 ],
 "metadata": {
  "kernelspec": {
   "display_name": "Python 3",
   "language": "python",
   "name": "python3"
  },
  "language_info": {
   "codemirror_mode": {
    "name": "ipython",
    "version": 3
   },
   "file_extension": ".py",
   "mimetype": "text/x-python",
   "name": "python",
   "nbconvert_exporter": "python",
   "pygments_lexer": "ipython3",
   "version": "3.8.5"
  }
 },
 "nbformat": 4,
 "nbformat_minor": 4
}
