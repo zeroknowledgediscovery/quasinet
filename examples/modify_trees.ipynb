{
 "cells": [
  {
   "cell_type": "code",
   "execution_count": 1,
   "metadata": {},
   "outputs": [],
   "source": [
    "import numpy as np\n",
    "from quasinet.qnet import load_qnet\n",
    "from quasinet.qnet import save_qnet\n",
    "from quasinet.qsampling import qsample\n",
    "from quasinet.qnet import qdistance, qdistance_matrix\n",
    "from quasinet.qnet import Qnet"
   ]
  },
  {
   "cell_type": "code",
   "execution_count": 2,
   "metadata": {},
   "outputs": [
    {
     "data": {
      "text/plain": [
       "qnet.Qnet"
      ]
     },
     "execution_count": 2,
     "metadata": {},
     "output_type": "execute_result"
    }
   ],
   "source": [
    "model = Qnet(feature_names=[\"X\" + str(x) for x in range(15)], alpha=0.1)\n",
    "X = np.random.randint(10, size=(100, 15)).astype(\"str\")\n",
    "model.fit(X)"
   ]
  },
  {
   "cell_type": "code",
   "execution_count": 3,
   "metadata": {},
   "outputs": [
    {
     "data": {
      "text/plain": [
       "0.021598763412435513"
      ]
     },
     "execution_count": 3,
     "metadata": {},
     "output_type": "execute_result"
    }
   ],
   "source": [
    "qdistance(X[0], X[1], model, model)"
   ]
  },
  {
   "cell_type": "code",
   "execution_count": 4,
   "metadata": {},
   "outputs": [
    {
     "name": "stdout",
     "output_type": "stream",
     "text": [
      "X[:,4] <= ['9' '5'] \n",
      " L: label: [0.04761905 0.04761905 0.19047619 0.04761905 0.0952381  0.28571429\n",
      " 0.0952381  0.14285714 0.04761905 0.        ]\n",
      " R: X[:,3] > ['5' '7' '6' '9' '0' '3' '8' '1' '2'] \n",
      "  L: X[:,4] <= ['4' '3'] \n",
      "    L: label: [0.10526316 0.05263158 0.26315789 0.26315789 0.         0.10526316\n",
      " 0.         0.15789474 0.         0.05263158]\n",
      "    R: X[:,4] > ['0', '1', '2', '7'] \n",
      "        L: X[:,4] <= ['0'] \n",
      "                L: X[:,8] <= ['1', '3', '5', '8'] \n",
      "                                L: label: [0.09090909 0.27272727 0.18181818 0.09090909 0.         0.18181818\n",
      " 0.09090909 0.         0.09090909 0.        ]\n",
      "                                R: label: [0.2 0.  0.  0.2 0.  0.  0.2 0.  0.  0.4]\n",
      "                R: X[:,4] > ['1', '2'] \n",
      "                                L: label: [0.07692308 0.07692308 0.23076923 0.         0.15384615 0.\n",
      " 0.07692308 0.23076923 0.15384615 0.        ]\n",
      "                                R: label: [0.22222222 0.22222222 0.11111111 0.         0.         0.\n",
      " 0.11111111 0.         0.         0.33333333]\n",
      "        R: X[:,8] > ['9' '8' '5'] \n",
      "                L: label: [0.         0.         0.14285714 0.         0.         0.\n",
      " 0.14285714 0.         0.57142857 0.14285714]\n",
      "                R: X[:,11] > ['9' '8' '2' '5' '3'] \n",
      "                                L: X[:,11] <= ['5'] \n",
      "                                                                L: label: [0.         0.         0.33333333 0.         0.         0.66666667\n",
      " 0.         0.         0.         0.        ]\n",
      "                                                                R: label: [0.         0.         0.28571429 0.14285714 0.         0.14285714\n",
      " 0.         0.14285714 0.14285714 0.14285714]\n",
      "                                R: label: [0.         0.66666667 0.         0.         0.         0.\n",
      " 0.         0.         0.         0.33333333]\n",
      "  R: label: [0. 0. 0. 0. 1. 0. 0. 0. 0. 0.]\n"
     ]
    }
   ],
   "source": [
    "model.estimators_[2].print_tree()"
   ]
  },
  {
   "cell_type": "code",
   "execution_count": 5,
   "metadata": {},
   "outputs": [],
   "source": [
    "from quasinet.tree import get_nodes"
   ]
  },
  {
   "cell_type": "code",
   "execution_count": 6,
   "metadata": {},
   "outputs": [],
   "source": [
    "leaves_all = list()\n",
    "for tree in model.estimators_.values():\n",
    "    leaves_all.append(get_nodes(tree.root, get_non_leaves=False))\n",
    "\n",
    "for leaves in leaves_all:\n",
    "    for leaf_distr in leaves:\n",
    "        leaf_distr.value = leaf_distr.value**5"
   ]
  },
  {
   "cell_type": "code",
   "execution_count": 7,
   "metadata": {},
   "outputs": [
    {
     "name": "stdout",
     "output_type": "stream",
     "text": [
      "label: [3.12500e-07 3.71293e-05 3.71293e-05 3.71293e-05 1.68070e-06 2.48832e-05\n",
      " 5.90490e-06 3.27680e-06 1.00000e-05 1.00000e-05]\n"
     ]
    }
   ],
   "source": [
    "model.estimators_[1].print_tree()"
   ]
  },
  {
   "cell_type": "code",
   "execution_count": 9,
   "metadata": {},
   "outputs": [
    {
     "name": "stdout",
     "output_type": "stream",
     "text": [
      "X[:,4] <= ['9' '5'] \n",
      " L: label: [2.44851927e-07 2.44851927e-07 2.50728373e-04 2.44851927e-07\n",
      " 7.83526166e-06 1.90396858e-03 7.83526166e-06 5.94990183e-05\n",
      " 2.44851927e-07 0.00000000e+00]\n",
      " R: X[:,3] > ['5' '7' '6' '9' '0' '3' '8' '1' '2'] \n",
      "  L: X[:,4] <= ['4' '3'] \n",
      "    L: label: [1.29235543e-05 4.03861073e-07 1.26206585e-03 1.26206585e-03\n",
      " 0.00000000e+00 1.29235543e-05 0.00000000e+00 9.81382408e-05\n",
      " 0.00000000e+00 4.03861073e-07]\n",
      "    R: X[:,4] > ['0', '1', '2', '7'] \n",
      "        L: X[:,4] <= ['0'] \n",
      "                L: X[:,8] <= ['1', '3', '5', '8'] \n",
      "                                L: label: [6.20921323e-06 1.50883882e-03 1.98694823e-04 6.20921323e-06\n",
      " 0.00000000e+00 1.98694823e-04 6.20921323e-06 0.00000000e+00\n",
      " 6.20921323e-06 0.00000000e+00]\n",
      "                                R: label: [0.00032 0.      0.      0.00032 0.      0.      0.00032 0.      0.\n",
      " 0.01024]\n",
      "                R: X[:,4] > ['1', '2'] \n",
      "                                L: label: [2.69329074e-06 2.69329074e-06 6.54469651e-04 0.00000000e+00\n",
      " 8.61853038e-05 0.00000000e+00 2.69329074e-06 6.54469651e-04\n",
      " 8.61853038e-05 0.00000000e+00]\n",
      "                                R: label: [5.41922810e-04 5.41922810e-04 1.69350878e-05 0.00000000e+00\n",
      " 0.00000000e+00 0.00000000e+00 1.69350878e-05 0.00000000e+00\n",
      " 0.00000000e+00 4.11522634e-03]\n",
      "        R: X[:,8] > ['9' '8' '5'] \n",
      "                L: label: [0.00000000e+00 0.00000000e+00 5.94990183e-05 0.00000000e+00\n",
      " 0.00000000e+00 0.00000000e+00 5.94990183e-05 0.00000000e+00\n",
      " 6.09269947e-02 5.94990183e-05]\n",
      "                R: X[:,11] > ['9' '8' '2' '5' '3'] \n",
      "                                L: X[:,11] <= ['5'] \n",
      "                                                                L: label: [0.         0.         0.00411523 0.         0.         0.13168724\n",
      " 0.         0.         0.         0.        ]\n",
      "                                                                R: label: [0.00000000e+00 0.00000000e+00 1.90396858e-03 5.94990183e-05\n",
      " 0.00000000e+00 5.94990183e-05 0.00000000e+00 5.94990183e-05\n",
      " 5.94990183e-05 5.94990183e-05]\n",
      "                                R: label: [0.         0.13168724 0.         0.         0.         0.\n",
      " 0.         0.         0.         0.00411523]\n",
      "  R: label: [0. 0. 0. 0. 1. 0. 0. 0. 0. 0.]\n"
     ]
    }
   ],
   "source": [
    "model.estimators_[2].print_tree()"
   ]
  },
  {
   "cell_type": "code",
   "execution_count": 8,
   "metadata": {},
   "outputs": [
    {
     "data": {
      "text/plain": [
       "qnet.Qnet"
      ]
     },
     "execution_count": 8,
     "metadata": {},
     "output_type": "execute_result"
    }
   ],
   "source": [
    "model2 = Qnet(feature_names=[\"X\" + str(x) for x in range(15)], alpha=0.1)\n",
    "X2 = np.random.randint(10, size=(100, 15)).astype(\"str\")\n",
    "model2.fit(X2)"
   ]
  },
  {
   "cell_type": "code",
   "execution_count": 11,
   "metadata": {},
   "outputs": [
    {
     "name": "stdout",
     "output_type": "stream",
     "text": [
      "X[:,11] <= ['4' '7' '9' '2' '3' '8' '1' '0'] \n",
      " L: X[:,2] <= ['2' '7' '4' '6' '5' '3'] \n",
      "  L: X[:,13] <= ['4'] \n",
      "    L: X[:,11] <= ['0', '7'] \n",
      "        L: label: [0.         0.         0.         0.         0.66666667 0.\n",
      " 0.         0.         0.         0.33333333]\n",
      "        R: label: [0.  0.5 0.  0.5 0.  0.  0.  0.  0.  0. ]\n",
      "    R: label: [0.07142857 0.07142857 0.14285714 0.11904762 0.11904762 0.11904762\n",
      " 0.02380952 0.21428571 0.02380952 0.0952381 ]\n",
      "  R: X[:,8] > ['8' '2' '3' '9' '1' '7' '4' '6' '0'] \n",
      "    L: X[:,14] <= ['0' '9' '6' '4' '3' '2' '5' '1'] \n",
      "        L: X[:,14] <= ['1' '0' '5'] \n",
      "                L: X[:,8] <= ['1'] \n",
      "                                L: label: [0. 1. 0. 0. 0. 0. 0. 0. 0. 0.]\n",
      "                                R: label: [0.25  0.    0.    0.    0.    0.25  0.125 0.125 0.25  0.   ]\n",
      "                R: X[:,11] > ['3' '9' '0' '2'] \n",
      "                                L: label: [0.  0.2 0.  0.  0.2 0.1 0.  0.3 0.1 0.1]\n",
      "                                R: X[:,11] > ['7'] \n",
      "                                                                L: label: [0.         0.         0.         0.         0.33333333 0.\n",
      " 0.         0.         0.66666667 0.        ]\n",
      "                                                                R: label: [0.  0.  0.  0.5 0.  0.  0.  0.5 0.  0. ]\n",
      "        R: label: [0.   0.   0.   0.   0.   0.   0.   0.   0.75 0.25]\n",
      "    R: X[:,4] > ['1'] \n",
      "        L: label: [0. 0. 0. 0. 0. 1. 0. 0. 0. 0.]\n",
      "        R: label: [0.5 0.  0.  0.  0.  0.  0.  0.  0.5 0. ]\n",
      " R: X[:,0] > ['1' '8' '3' '4' '7' '5' '9'] \n",
      "  L: label: [0.         0.21428571 0.14285714 0.         0.         0.\n",
      " 0.21428571 0.14285714 0.28571429 0.        ]\n",
      "  R: label: [0.5 0.  0.  0.  0.  0.  0.5 0.  0.  0. ]\n"
     ]
    }
   ],
   "source": [
    "model2.estimators_[1].print_tree()"
   ]
  },
  {
   "cell_type": "code",
   "execution_count": null,
   "metadata": {},
   "outputs": [],
   "source": []
  }
 ],
 "metadata": {
  "kernelspec": {
   "display_name": "Python 3",
   "language": "python",
   "name": "python3"
  },
  "language_info": {
   "codemirror_mode": {
    "name": "ipython",
    "version": 3
   },
   "file_extension": ".py",
   "mimetype": "text/x-python",
   "name": "python",
   "nbconvert_exporter": "python",
   "pygments_lexer": "ipython3",
   "version": "3.10.11"
  }
 },
 "nbformat": 4,
 "nbformat_minor": 4
}
