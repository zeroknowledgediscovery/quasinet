{
 "cells": [
  {
   "cell_type": "code",
   "execution_count": 1,
   "metadata": {
    "ExecuteTime": {
     "end_time": "2020-07-13T22:48:23.000049Z",
     "start_time": "2020-07-13T22:48:22.089253Z"
    }
   },
   "outputs": [
    {
     "data": {
      "text/plain": [
       "<module 'qnet' from '/home/jinli11/quasinet/quasinet/citrees/qnet.py'>"
      ]
     },
     "execution_count": 1,
     "metadata": {},
     "output_type": "execute_result"
    }
   ],
   "source": [
    "import sys\n",
    "import time\n",
    "import copy\n",
    "from importlib import reload\n",
    "\n",
    "import sklearn\n",
    "import pandas as pd\n",
    "import numpy as np\n",
    "from sklearn.datasets import load_iris, load_wine\n",
    "\n",
    "sys.path.insert(1, '/home/jinli11/quasinet/quasinet/citrees/')\n",
    "\n",
    "import citrees\n",
    "import qnet\n",
    "reload(qnet)"
   ]
  },
  {
   "cell_type": "code",
   "execution_count": 2,
   "metadata": {
    "ExecuteTime": {
     "end_time": "2020-07-13T22:48:24.518518Z",
     "start_time": "2020-07-13T22:48:23.001599Z"
    }
   },
   "outputs": [
    {
     "data": {
      "text/plain": [
       "qnet.Qnet"
      ]
     },
     "execution_count": 2,
     "metadata": {},
     "output_type": "execute_result"
    }
   ],
   "source": [
    "DATA_DIR = 'data/'\n",
    "OUTPUT_DIR = 'output/'\n",
    "\n",
    "X = pd.read_csv(DATA_DIR + 'cchfl_test.csv')\n",
    "# X = copy.deepcopy(X_orig)\n",
    "# y = X['0'].values\n",
    "# X.drop(['0'], axis=1, inplace=True)\n",
    "# X.columns = np.arange(0, X.shape[1])\n",
    "X = X.iloc[:, :10]\n",
    "X = X.values.astype(str)\n",
    "# breakpoint()\n",
    "myqnet = qnet.Qnet(n_jobs=4)\n",
    "myqnet.fit(X)"
   ]
  },
  {
   "cell_type": "code",
   "execution_count": 3,
   "metadata": {
    "ExecuteTime": {
     "end_time": "2020-07-13T22:48:24.534827Z",
     "start_time": "2020-07-13T22:48:24.522281Z"
    }
   },
   "outputs": [],
   "source": [
    "%load_ext line_profiler"
   ]
  },
  {
   "cell_type": "code",
   "execution_count": 4,
   "metadata": {
    "ExecuteTime": {
     "end_time": "2020-07-13T22:48:24.581140Z",
     "start_time": "2020-07-13T22:48:24.537235Z"
    }
   },
   "outputs": [],
   "source": [
    "max_seq = 3"
   ]
  },
  {
   "cell_type": "code",
   "execution_count": 7,
   "metadata": {
    "ExecuteTime": {
     "end_time": "2020-07-13T22:50:34.169829Z",
     "start_time": "2020-07-13T22:50:34.152418Z"
    }
   },
   "outputs": [
    {
     "data": {
      "text/plain": [
       "array([[0.        , 0.04326648, 0.09510815],\n",
       "       [0.04326648, 0.        , 0.09609467],\n",
       "       [0.09510815, 0.09609467, 0.        ]])"
      ]
     },
     "execution_count": 7,
     "metadata": {},
     "output_type": "execute_result"
    }
   ],
   "source": [
    "qnet.qdistance_matrix(X[:max_seq], X[:max_seq], myqnet, myqnet)"
   ]
  },
  {
   "cell_type": "markdown",
   "metadata": {},
   "source": [
    "array([[0.        , 0.04326648, 0.09510815],\n",
    "       [0.04326648, 0.        , 0.09609467],\n",
    "       [0.09510815, 0.09609467, 0.        ]])"
   ]
  },
  {
   "cell_type": "markdown",
   "metadata": {},
   "source": [
    "86471.0"
   ]
  },
  {
   "cell_type": "code",
   "execution_count": 8,
   "metadata": {
    "ExecuteTime": {
     "end_time": "2020-07-13T22:50:37.507821Z",
     "start_time": "2020-07-13T22:50:37.462603Z"
    }
   },
   "outputs": [],
   "source": [
    "%lprun -f myqnet.predict_distribution qnet.qdistance_matrix(X[:max_seq], X[:max_seq], myqnet, myqnet)"
   ]
  },
  {
   "cell_type": "code",
   "execution_count": null,
   "metadata": {},
   "outputs": [],
   "source": []
  }
 ],
 "metadata": {
  "kernelspec": {
   "display_name": "quasinet",
   "language": "python",
   "name": "quasinet"
  },
  "language_info": {
   "codemirror_mode": {
    "name": "ipython",
    "version": 3
   },
   "file_extension": ".py",
   "mimetype": "text/x-python",
   "name": "python",
   "nbconvert_exporter": "python",
   "pygments_lexer": "ipython3",
   "version": "3.7.7"
  },
  "toc": {
   "base_numbering": 1,
   "nav_menu": {},
   "number_sections": true,
   "sideBar": true,
   "skip_h1_title": false,
   "title_cell": "Table of Contents",
   "title_sidebar": "Contents",
   "toc_cell": false,
   "toc_position": {},
   "toc_section_display": true,
   "toc_window_display": false
  }
 },
 "nbformat": 4,
 "nbformat_minor": 4
}
