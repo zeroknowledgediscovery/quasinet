{
 "cells": [
  {
   "cell_type": "markdown",
   "metadata": {},
   "source": [
    "# Data Directory"
   ]
  },
  {
   "cell_type": "code",
   "execution_count": 2,
   "metadata": {
    "ExecuteTime": {
     "end_time": "2020-06-14T22:47:51.886186Z",
     "start_time": "2020-06-14T22:47:51.883309Z"
    }
   },
   "outputs": [],
   "source": [
    "DATA_DIR = 'data/'"
   ]
  },
  {
   "cell_type": "markdown",
   "metadata": {},
   "source": [
    "# Notes"
   ]
  },
  {
   "cell_type": "markdown",
   "metadata": {},
   "source": [
    "`jupyter nbconvert --to script running_citree.ipynb`"
   ]
  },
  {
   "cell_type": "markdown",
   "metadata": {},
   "source": [
    "# Imports"
   ]
  },
  {
   "cell_type": "code",
   "execution_count": 3,
   "metadata": {
    "ExecuteTime": {
     "end_time": "2020-06-14T22:47:53.285231Z",
     "start_time": "2020-06-14T22:47:52.355618Z"
    }
   },
   "outputs": [
    {
     "data": {
      "text/plain": [
       "<module 'citrees' from '/home/jinli11/quasinet/quasinet/citrees/citrees.py'>"
      ]
     },
     "execution_count": 3,
     "metadata": {},
     "output_type": "execute_result"
    }
   ],
   "source": [
    "from importlib import reload\n",
    "import sys\n",
    "\n",
    "import sklearn\n",
    "import pandas as pd\n",
    "from sklearn.datasets import load_iris, load_wine\n",
    "\n",
    "sys.path.insert(1, '/home/jinli11/quasinet/quasinet/citrees/')\n",
    "\n",
    "import citrees\n",
    "\n",
    "reload(citrees)"
   ]
  },
  {
   "cell_type": "code",
   "execution_count": 14,
   "metadata": {
    "ExecuteTime": {
     "end_time": "2020-06-14T22:49:18.874787Z",
     "start_time": "2020-06-14T22:49:18.740472Z"
    }
   },
   "outputs": [],
   "source": [
    "X = pd.read_csv(DATA_DIR + 'cchfl_test.csv')\n",
    "y = X['0'].values\n",
    "X.drop(['0'], axis=1, inplace=True)\n",
    "# # y = pd.read_csv(DATA_DIR + 'abalone.names', header=None)\n",
    "# y = X[['0']]\n",
    "# X.drop(['0'], axis=1, inplace=True)"
   ]
  },
  {
   "cell_type": "code",
   "execution_count": 16,
   "metadata": {
    "ExecuteTime": {
     "end_time": "2020-06-14T22:49:23.837802Z",
     "start_time": "2020-06-14T22:49:23.835604Z"
    }
   },
   "outputs": [],
   "source": [
    "# X"
   ]
  },
  {
   "cell_type": "code",
   "execution_count": 18,
   "metadata": {
    "ExecuteTime": {
     "end_time": "2020-06-14T22:49:27.752442Z",
     "start_time": "2020-06-14T22:49:27.747511Z"
    }
   },
   "outputs": [],
   "source": [
    "# y"
   ]
  },
  {
   "cell_type": "code",
   "execution_count": 11,
   "metadata": {
    "ExecuteTime": {
     "end_time": "2020-06-14T22:48:55.148022Z",
     "start_time": "2020-06-14T22:48:55.128607Z"
    }
   },
   "outputs": [],
   "source": [
    "# X, y = load_iris(return_X_y=True)"
   ]
  },
  {
   "cell_type": "code",
   "execution_count": 6,
   "metadata": {
    "ExecuteTime": {
     "end_time": "2020-06-02T20:13:10.746929Z",
     "start_time": "2020-06-02T20:13:10.631357Z"
    }
   },
   "outputs": [],
   "source": [
    "# y.shape\n",
    "clf = citrees.CITreeClassifier()"
   ]
  },
  {
   "cell_type": "code",
   "execution_count": 7,
   "metadata": {
    "ExecuteTime": {
     "end_time": "2020-06-02T20:13:10.985320Z",
     "start_time": "2020-06-02T20:13:10.748777Z"
    }
   },
   "outputs": [
    {
     "data": {
      "text/plain": [
       "CITreeClassifier(alpha=0.05, early_stopping=False, max_depth=inf, max_feats=4,\n",
       "                 min_samples_split=2, muting=True, n_jobs=-1,\n",
       "                 n_permutations=100, random_state=1199, selector='mc',\n",
       "                 verbose=0)"
      ]
     },
     "execution_count": 7,
     "metadata": {},
     "output_type": "execute_result"
    }
   ],
   "source": [
    "clf.fit(X, y)"
   ]
  },
  {
   "cell_type": "code",
   "execution_count": 8,
   "metadata": {
    "ExecuteTime": {
     "end_time": "2020-06-02T20:13:10.989991Z",
     "start_time": "2020-06-02T20:13:10.987428Z"
    }
   },
   "outputs": [],
   "source": [
    "# y == clf.predict(X)"
   ]
  },
  {
   "cell_type": "code",
   "execution_count": null,
   "metadata": {},
   "outputs": [],
   "source": []
  }
 ],
 "metadata": {
  "kernelspec": {
   "display_name": "quasinet",
   "language": "python",
   "name": "quasinet"
  },
  "language_info": {
   "codemirror_mode": {
    "name": "ipython",
    "version": 3
   },
   "file_extension": ".py",
   "mimetype": "text/x-python",
   "name": "python",
   "nbconvert_exporter": "python",
   "pygments_lexer": "ipython3",
   "version": "3.7.7"
  },
  "toc": {
   "base_numbering": 1,
   "nav_menu": {},
   "number_sections": true,
   "sideBar": true,
   "skip_h1_title": false,
   "title_cell": "Table of Contents",
   "title_sidebar": "Contents",
   "toc_cell": false,
   "toc_position": {},
   "toc_section_display": true,
   "toc_window_display": false
  }
 },
 "nbformat": 4,
 "nbformat_minor": 4
}
